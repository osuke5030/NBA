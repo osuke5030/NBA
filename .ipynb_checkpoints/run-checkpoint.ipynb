{
 "cells": [
  {
   "cell_type": "code",
   "execution_count": 89,
   "id": "dc242d7a",
   "metadata": {},
   "outputs": [
    {
     "name": "stdout",
     "output_type": "stream",
     "text": [
      "<requests_oauthlib.oauth1_session.OAuth1Session object at 0x7f81d3ca1f70>\n",
      "投稿準備完了\n"
     ]
    }
   ],
   "source": [
    "import requests\n",
    "from bs4 import BeautifulSoup\n",
    "import os\n",
    "import json\n",
    "import sys\n",
    "sys.path.append(\"/Users/kuramochiosuke/.pyenv/versions/3.10.4/Library/Frameworks/Python.framework/Versions/3.10/lib/python3.10/site-packages\")\n",
    "from requests_oauthlib import OAuth1Session\n",
    "sys.path.append(\"/Users/kuramochiosuke/.pyenv/versions/3.10.4/lib/python3.10/site-packages\")\n",
    "from dotenv import find_dotenv, load_dotenv\n",
    "import requests\n",
    "import schedule\n",
    "import time\n",
    "import openpyxl\n",
    "\n",
    "\n",
    "# .envファイルを探して読み込み\n",
    "env_file = find_dotenv()\n",
    "load_dotenv(env_file)  \n",
    "\n",
    "CONSUMER_KEY = os.environ.get('CONSUMER_KEY')\n",
    "CONSUMER_SECRET = os.environ.get('CONSUMER_SECRET')\n",
    "ACCESS_KEY = os.environ.get('ACCESS_KEY')\n",
    "ACCESS_KEY_SECRET = os.environ.get('ACCESS_KEY_SECRET')\n",
    "\n",
    "# Twitterの認証\n",
    "twitter = OAuth1Session(CONSUMER_KEY, CONSUMER_SECRET, ACCESS_KEY, ACCESS_KEY_SECRET)\n",
    "print(twitter)\n",
    "#エンドポイント\n",
    "url_text = 'https://api.twitter.com/1.1/statuses/update.json'\n",
    "url_media = \"https://upload.twitter.com/1.1/media/upload.json\"\n",
    "print(\"投稿準備完了\")"
   ]
  },
  {
   "cell_type": "code",
   "execution_count": 90,
   "id": "83b288cb",
   "metadata": {
    "scrolled": true
   },
   "outputs": [],
   "source": [
    "#nbaのページの指定\n",
    "URL = 'https://basketballking.jp/news/category/world/nba'\n",
    "# リクエストヘッダの指定\n",
    "headers = {\"User-Agent\": \"hoge\"}\n",
    "response = requests.get(URL,  headers=headers)\n",
    "r_text=response.text\n",
    "soup = BeautifulSoup(r_text, 'html.parser')"
   ]
  },
  {
   "cell_type": "code",
   "execution_count": 91,
   "id": "7842977e",
   "metadata": {
    "scrolled": false
   },
   "outputs": [
    {
     "data": {
      "text/plain": [
       "<div class=\"news-category-list__vertical\">\n",
       "<a class=\"news-category-list__link\" href=\"https://basketballking.jp/news/world/nba/20220704/381464.html?cx_cat=page1\">\n",
       "<div class=\"news-category-list__vertical__img\">\n",
       "<img alt=\"\" class=\"attachment-350n-post-thumbnail size-350n-post-thumbnail wp-post-image\" height=\"263\" loading=\"lazy\" sizes=\"(max-width: 350px) 100vw, 350px\" src=\"https://basketballking.jp/wp-content/uploads/2022/07/a5f85a98c0940839a3de9eb9d4a3f865-350x263.jpg\" srcset=\"https://basketballking.jp/wp-content/uploads/2022/07/a5f85a98c0940839a3de9eb9d4a3f865-350x263.jpg 350w, https://basketballking.jp/wp-content/uploads/2022/07/a5f85a98c0940839a3de9eb9d4a3f865-300x225.jpg 300w, https://basketballking.jp/wp-content/uploads/2022/07/a5f85a98c0940839a3de9eb9d4a3f865-768x576.jpg 768w, https://basketballking.jp/wp-content/uploads/2022/07/a5f85a98c0940839a3de9eb9d4a3f865-200x150.jpg 200w, https://basketballking.jp/wp-content/uploads/2022/07/a5f85a98c0940839a3de9eb9d4a3f865-500x375.jpg 500w, https://basketballking.jp/wp-content/uploads/2022/07/a5f85a98c0940839a3de9eb9d4a3f865.jpg 800w\" width=\"350\"> </img></div>\n",
       "<div class=\"news-category-list__vertical__information\">\n",
       "<div class=\"catBox right\" style=\"background-color: #fee920\">\n",
       " \t\t\t\t\t\tNBA \t\t\t\t\t</div>\n",
       "<div class=\"news-category-list__vertical__date decoCal\">\n",
       " \t\t\t\t\t3時間前 \t\t\t\t</div>\n",
       "<div class=\"news-category-list__vertical__title\">\n",
       "\t\t\t\t\t\t\t\t\t\tNBA全球団の直近ドラフト1位指名選手…一時代を築いた選手やハズレ指名も？\t\t\t\t</div>\n",
       "<div class=\"news-category-list__vertical__excerpt\">\n",
       "\t\t\t\t\t　NBAドラフトの1位指名権は、主に優勝争いから外れている再建中のチームが、ドラフトロッタリーの抽選によって手にすることができる。その年の最高のルーキーを獲得す···\t\t\t\t</div>\n",
       "</div>\n",
       "</a>\n",
       "</div>"
      ]
     },
     "execution_count": 91,
     "metadata": {},
     "output_type": "execute_result"
    }
   ],
   "source": [
    "soup_a=soup.find_all(\"div\",attrs={\"class\",\"container\"})[1]\n",
    "soup_article=soup_a.find_all(\"div\",attrs={\"class\",\"news-category-list__vertical\"})[0]\n",
    "soup_article"
   ]
  },
  {
   "cell_type": "code",
   "execution_count": 92,
   "id": "b97bc189",
   "metadata": {},
   "outputs": [
    {
     "data": {
      "text/plain": [
       "'NBA全球団の直近ドラフト1位指名選手…一時代を築いた選手やハズレ指名も？'"
      ]
     },
     "execution_count": 92,
     "metadata": {},
     "output_type": "execute_result"
    }
   ],
   "source": [
    "soup_title=soup_article.find_all(\"div\",attrs={\"class\",\"news-category-list__vertical__title\"})[0].text.replace(\"\\n\",\"\").replace(\"\\t\",\"\")\n",
    "soup_title"
   ]
  },
  {
   "cell_type": "code",
   "execution_count": 93,
   "id": "d279e867",
   "metadata": {},
   "outputs": [
    {
     "data": {
      "text/plain": [
       "'https://basketballking.jp/news/world/nba/20220704/381464.html?cx_cat=page1'"
      ]
     },
     "execution_count": 93,
     "metadata": {},
     "output_type": "execute_result"
    }
   ],
   "source": [
    "soup_url=soup_article.find_all(\"a\")[0]['href']\n",
    "soup_url"
   ]
  },
  {
   "cell_type": "code",
   "execution_count": 94,
   "id": "f5f8632a",
   "metadata": {},
   "outputs": [
    {
     "data": {
      "text/plain": [
       "'https://basketballking.jp/wp-content/uploads/2022/07/a5f85a98c0940839a3de9eb9d4a3f865-350x263.jpg'"
      ]
     },
     "execution_count": 94,
     "metadata": {},
     "output_type": "execute_result"
    }
   ],
   "source": [
    "soup_img=soup_article.find(\"img\")[\"src\"]\n",
    "soup_img"
   ]
  },
  {
   "cell_type": "code",
   "execution_count": 95,
   "id": "db70ba8a",
   "metadata": {},
   "outputs": [
    {
     "name": "stdout",
     "output_type": "stream",
     "text": [
      "画像の取得完了\n"
     ]
    }
   ],
   "source": [
    "response = requests.get(soup_img)\n",
    "image = response.content\n",
    "files = {\"media\" : image}\n",
    "req_media = twitter.post(url_media, files = files)\n",
    "media_id = json.loads(req_media.text)['media_id']\n",
    "print('画像の取得完了')"
   ]
  },
  {
   "cell_type": "code",
   "execution_count": 97,
   "id": "8ae8fd1f",
   "metadata": {},
   "outputs": [
    {
     "name": "stdout",
     "output_type": "stream",
     "text": [
      "投稿済みです\n",
      "処理終了しました\n",
      "\n"
     ]
    }
   ],
   "source": [
    "params = {'status':\"NBA情報!!!\\n\\n{}\\n\\n記事↓↓↓\\n{}\".format(soup_title,soup_url),'media_ids':[media_id]}\n",
    "wb = openpyxl.load_workbook('nba.xlsx')\n",
    "time.sleep(1)\n",
    "ws = wb[\"Sheet1\"]\n",
    "for i in range(wb['Sheet1'].max_row):\n",
    "    if ws.cell(row=i+1,column=1).value==params[\"status\"]:\n",
    "        print(\"投稿済みです\")\n",
    "        break    \n",
    "    elif i==wb['Sheet1'].max_row-1:   \n",
    "        ws.cell(row=wb['Sheet1'].max_row+1,column=1).value = params[\"status\"]\n",
    "        wb.save('nba.xlsx')\n",
    "        print(\"保存しました\")\n",
    "        twitter.post(url_text, params = params)\n",
    "        print(\"投稿しました\") \n",
    "print(\"処理終了しました\")\n",
    "print(\"\")"
   ]
  },
  {
   "cell_type": "code",
   "execution_count": null,
   "id": "90862aef",
   "metadata": {},
   "outputs": [],
   "source": []
  }
 ],
 "metadata": {
  "kernelspec": {
   "display_name": "Python 3 (ipykernel)",
   "language": "python",
   "name": "python3"
  },
  "language_info": {
   "codemirror_mode": {
    "name": "ipython",
    "version": 3
   },
   "file_extension": ".py",
   "mimetype": "text/x-python",
   "name": "python",
   "nbconvert_exporter": "python",
   "pygments_lexer": "ipython3",
   "version": "3.9.12"
  }
 },
 "nbformat": 4,
 "nbformat_minor": 5
}
